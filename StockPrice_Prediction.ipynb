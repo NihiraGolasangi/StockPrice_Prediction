{
 "cells": [
  {
   "cell_type": "code",
   "execution_count": null,
   "metadata": {
    "id": "_gsn0Bu4lS2r"
   },
   "outputs": [],
   "source": [
    "import pandas as pd\n",
    "import numpy as np\n",
    "import matplotlib.pyplot as plt\n",
    "\n"
   ]
  },
  {
   "cell_type": "code",
   "execution_count": null,
   "metadata": {
    "id": "hnpAD5SUlnhq"
   },
   "outputs": [],
   "source": [
    "df_train= pd.read_csv('Google_Stock_Price_Train.csv')\n",
    "df_test = pd.read_csv('Google_Stock_Price_Test.csv')"
   ]
  },
  {
   "cell_type": "code",
   "execution_count": null,
   "metadata": {
    "colab": {
     "base_uri": "https://localhost:8080/",
     "height": 195
    },
    "id": "QTxE4nALn2fZ",
    "outputId": "62b10e7b-b277-43fa-ab6a-edd5faff8d64"
   },
   "outputs": [
    {
     "data": {
      "text/html": [
       "<div>\n",
       "<style scoped>\n",
       "    .dataframe tbody tr th:only-of-type {\n",
       "        vertical-align: middle;\n",
       "    }\n",
       "\n",
       "    .dataframe tbody tr th {\n",
       "        vertical-align: top;\n",
       "    }\n",
       "\n",
       "    .dataframe thead th {\n",
       "        text-align: right;\n",
       "    }\n",
       "</style>\n",
       "<table border=\"1\" class=\"dataframe\">\n",
       "  <thead>\n",
       "    <tr style=\"text-align: right;\">\n",
       "      <th></th>\n",
       "      <th>Date</th>\n",
       "      <th>Open</th>\n",
       "      <th>High</th>\n",
       "      <th>Low</th>\n",
       "      <th>Close</th>\n",
       "      <th>Volume</th>\n",
       "    </tr>\n",
       "  </thead>\n",
       "  <tbody>\n",
       "    <tr>\n",
       "      <th>0</th>\n",
       "      <td>1/3/2012</td>\n",
       "      <td>325.25</td>\n",
       "      <td>332.83</td>\n",
       "      <td>324.97</td>\n",
       "      <td>663.59</td>\n",
       "      <td>7,380,500</td>\n",
       "    </tr>\n",
       "    <tr>\n",
       "      <th>1</th>\n",
       "      <td>1/4/2012</td>\n",
       "      <td>331.27</td>\n",
       "      <td>333.87</td>\n",
       "      <td>329.08</td>\n",
       "      <td>666.45</td>\n",
       "      <td>5,749,400</td>\n",
       "    </tr>\n",
       "    <tr>\n",
       "      <th>2</th>\n",
       "      <td>1/5/2012</td>\n",
       "      <td>329.83</td>\n",
       "      <td>330.75</td>\n",
       "      <td>326.89</td>\n",
       "      <td>657.21</td>\n",
       "      <td>6,590,300</td>\n",
       "    </tr>\n",
       "    <tr>\n",
       "      <th>3</th>\n",
       "      <td>1/6/2012</td>\n",
       "      <td>328.34</td>\n",
       "      <td>328.77</td>\n",
       "      <td>323.68</td>\n",
       "      <td>648.24</td>\n",
       "      <td>5,405,900</td>\n",
       "    </tr>\n",
       "    <tr>\n",
       "      <th>4</th>\n",
       "      <td>1/9/2012</td>\n",
       "      <td>322.04</td>\n",
       "      <td>322.29</td>\n",
       "      <td>309.46</td>\n",
       "      <td>620.76</td>\n",
       "      <td>11,688,800</td>\n",
       "    </tr>\n",
       "  </tbody>\n",
       "</table>\n",
       "</div>"
      ],
      "text/plain": [
       "       Date    Open    High     Low   Close      Volume\n",
       "0  1/3/2012  325.25  332.83  324.97  663.59   7,380,500\n",
       "1  1/4/2012  331.27  333.87  329.08  666.45   5,749,400\n",
       "2  1/5/2012  329.83  330.75  326.89  657.21   6,590,300\n",
       "3  1/6/2012  328.34  328.77  323.68  648.24   5,405,900\n",
       "4  1/9/2012  322.04  322.29  309.46  620.76  11,688,800"
      ]
     },
     "execution_count": 3,
     "metadata": {
      "tags": []
     },
     "output_type": "execute_result"
    }
   ],
   "source": [
    "df_train.head()"
   ]
  },
  {
   "cell_type": "code",
   "execution_count": null,
   "metadata": {
    "colab": {
     "base_uri": "https://localhost:8080/"
    },
    "id": "ty85VJrqn8mC",
    "outputId": "43104359-ea3f-47ae-9a9a-647a8c7dca40"
   },
   "outputs": [
    {
     "data": {
      "text/plain": [
       "(1258, 6)"
      ]
     },
     "execution_count": 4,
     "metadata": {
      "tags": []
     },
     "output_type": "execute_result"
    }
   ],
   "source": [
    "df_train.shape"
   ]
  },
  {
   "cell_type": "code",
   "execution_count": null,
   "metadata": {
    "colab": {
     "base_uri": "https://localhost:8080/"
    },
    "id": "deU4NPyjoDlK",
    "outputId": "411bc095-02ac-46f5-eed7-9d26e3b87370"
   },
   "outputs": [
    {
     "data": {
      "text/plain": [
       "0       325.25\n",
       "1       331.27\n",
       "2       329.83\n",
       "3       328.34\n",
       "4       322.04\n",
       "         ...  \n",
       "1253    790.90\n",
       "1254    790.68\n",
       "1255    793.70\n",
       "1256    783.33\n",
       "1257    782.75\n",
       "Name: Open, Length: 1258, dtype: float64"
      ]
     },
     "execution_count": 5,
     "metadata": {
      "tags": []
     },
     "output_type": "execute_result"
    }
   ],
   "source": [
    "df_train ['Open']"
   ]
  },
  {
   "cell_type": "code",
   "execution_count": null,
   "metadata": {
    "colab": {
     "base_uri": "https://localhost:8080/",
     "height": 282
    },
    "id": "bKnVHJkAoOmZ",
    "outputId": "3f1c342c-a7be-4c4e-9638-369939198cce"
   },
   "outputs": [
    {
     "data": {
      "text/plain": [
       "[<matplotlib.lines.Line2D at 0x7fb8c21d57d0>]"
      ]
     },
     "execution_count": 6,
     "metadata": {
      "tags": []
     },
     "output_type": "execute_result"
    },
    {
     "data": {
      "image/png": "[encoded data removed]",
      "text/plain": [
       "<Figure size 432x288 with 1 Axes>"
      ]
     },
     "metadata": {
      "needs_background": "light",
      "tags": []
     },
     "output_type": "display_data"
    }
   ],
   "source": [
    "plt.plot(df_train['Open'])"
   ]
  },
  {
   "cell_type": "code",
   "execution_count": null,
   "metadata": {
    "id": "JWHsDhEIods1"
   },
   "outputs": [],
   "source": [
    "#scaling\n",
    "from sklearn.preprocessing import MinMaxScaler"
   ]
  },
  {
   "cell_type": "code",
   "execution_count": null,
   "metadata": {
    "id": "TQsESkRMoust"
   },
   "outputs": [],
   "source": [
    "scaler = MinMaxScaler()\n",
    "x_scale = scaler.fit_transform(df_train[['Open']])"
   ]
  },
  {
   "cell_type": "code",
   "execution_count": null,
   "metadata": {
    "colab": {
     "base_uri": "https://localhost:8080/"
    },
    "id": "yU4VjNq_o-oX",
    "outputId": "712618dc-10d7-41cd-eed8-2d3d602c51fa"
   },
   "outputs": [
    {
     "data": {
      "text/plain": [
       "(1258, 1)"
      ]
     },
     "execution_count": 9,
     "metadata": {
      "tags": []
     },
     "output_type": "execute_result"
    }
   ],
   "source": [
    "x_scale.shape"
   ]
  },
  {
   "cell_type": "code",
   "execution_count": null,
   "metadata": {
    "id": "INam3tEwqq4D"
   },
   "outputs": [],
   "source": [
    "x_scale[0:0+60+1]"
   ]
  },
  {
   "cell_type": "code",
   "execution_count": null,
   "metadata": {
    "colab": {
     "base_uri": "https://localhost:8080/"
    },
    "id": "8wD-RxYyuINY",
    "outputId": "c43962bb-41a9-406c-a064-007547f2aac3"
   },
   "outputs": [
    {
     "data": {
      "text/plain": [
       "61"
      ]
     },
     "execution_count": 21,
     "metadata": {
      "tags": []
     },
     "output_type": "execute_result"
    }
   ],
   "source": [
    "len(x_scale[0:0+60+1,0])"
   ]
  },
  {
   "cell_type": "code",
   "execution_count": null,
   "metadata": {
    "id": "fmYclSItpGgO"
   },
   "outputs": [],
   "source": [
    "X_temp=[]\n",
    "for i in range(0,1258-60):\n",
    "    temp=x_scale[i:i+61,0]\n",
    "    X_temp.append(temp)"
   ]
  },
  {
   "cell_type": "code",
   "execution_count": null,
   "metadata": {
    "colab": {
     "base_uri": "https://localhost:8080/"
    },
    "id": "nFWEdeSlvvY6",
    "outputId": "4bcbff21-3d01-4b17-fcfa-8e280d3172fa"
   },
   "outputs": [
    {
     "data": {
      "text/plain": [
       "1198"
      ]
     },
     "execution_count": 11,
     "metadata": {
      "tags": []
     },
     "output_type": "execute_result"
    }
   ],
   "source": [
    "len(X_temp)"
   ]
  },
  {
   "cell_type": "code",
   "execution_count": null,
   "metadata": {
    "id": "B0_1H8Wrvzuu"
   },
   "outputs": [],
   "source": [
    "\n",
    "X=np.array(X_temp)"
   ]
  },
  {
   "cell_type": "code",
   "execution_count": null,
   "metadata": {
    "colab": {
     "base_uri": "https://localhost:8080/"
    },
    "id": "xqlT0vRQwGhp",
    "outputId": "99cd845d-53ad-4623-b162-5990644b06b7"
   },
   "outputs": [
    {
     "data": {
      "text/plain": [
       "(1198, 61)"
      ]
     },
     "execution_count": 13,
     "metadata": {
      "tags": []
     },
     "output_type": "execute_result"
    }
   ],
   "source": [
    "X.shape"
   ]
  },
  {
   "cell_type": "code",
   "execution_count": null,
   "metadata": {
    "id": "TOqxY5OVwOV5"
   },
   "outputs": [],
   "source": [
    " X = X[:,:-1]"
   ]
  },
  {
   "cell_type": "code",
   "execution_count": null,
   "metadata": {
    "id": "A08VKJ2HxZQ9"
   },
   "outputs": [],
   "source": [
    "y = X[:,-1]"
   ]
  },
  {
   "cell_type": "code",
   "execution_count": null,
   "metadata": {
    "id": "KHNh4SxixkRZ"
   },
   "outputs": [],
   "source": [
    "X = X.reshape(-1,60,1)"
   ]
  },
  {
   "cell_type": "code",
   "execution_count": null,
   "metadata": {
    "colab": {
     "base_uri": "https://localhost:8080/"
    },
    "id": "qgvGNqLd0_QM",
    "outputId": "69daf72f-8a41-460d-9417-d39abf4ebe86"
   },
   "outputs": [
    {
     "data": {
      "text/plain": [
       "(1198, 60, 1)"
      ]
     },
     "execution_count": 17,
     "metadata": {
      "tags": []
     },
     "output_type": "execute_result"
    }
   ],
   "source": [
    "X.shape"
   ]
  },
  {
   "cell_type": "code",
   "execution_count": null,
   "metadata": {
    "id": "R73M1LbTx2uD"
   },
   "outputs": [],
   "source": [
    "from tensorflow.keras.layers import Dense,LSTM\n",
    "from tensorflow.keras.models import Sequential"
   ]
  },
  {
   "cell_type": "code",
   "execution_count": null,
   "metadata": {
    "id": "br3omT3NyPwV"
   },
   "outputs": [],
   "source": [
    "model= Sequential()\n",
    "model.add (LSTM(50 ,return_sequences=True, input_shape= (60,1)))\n",
    "model.add (LSTM(50, return_sequences=True ))\n",
    "model.add (LSTM(50 ,return_sequences=True ))\n",
    "model.add (LSTM(50, return_sequences=False))\n",
    "model.add (Dense(1))"
   ]
  },
  {
   "cell_type": "code",
   "execution_count": null,
   "metadata": {
    "id": "479JQP5KzG1M"
   },
   "outputs": [],
   "source": [
    "model.compile(optimizer='adam',loss = 'mean_squared_error')"
   ]
  },
  {
   "cell_type": "code",
   "execution_count": null,
   "metadata": {
    "colab": {
     "base_uri": "https://localhost:8080/"
    },
    "id": "I7rhZFNzzfRK",
    "outputId": "f67490c2-6f08-4a8a-d4fe-d8ec7d1d9114"
   },
   "outputs": [
    {
     "name": "stdout",
     "output_type": "stream",
     "text": [
      "Epoch 1/50\n",
      "38/38 [==============================] - 7s 14ms/step - loss: 0.1238\n",
      "Epoch 2/50\n",
      "38/38 [==============================] - 0s 11ms/step - loss: 0.0027\n",
      "Epoch 3/50\n",
      "38/38 [==============================] - 0s 11ms/step - loss: 0.0022\n",
      "Epoch 4/50\n",
      "38/38 [==============================] - 0s 12ms/step - loss: 0.0021\n",
      "Epoch 5/50\n",
      "38/38 [==============================] - 0s 11ms/step - loss: 0.0023\n",
      "Epoch 6/50\n",
      "38/38 [==============================] - 0s 12ms/step - loss: 0.0018\n",
      "Epoch 7/50\n",
      "38/38 [==============================] - 0s 11ms/step - loss: 0.0018\n",
      "Epoch 8/50\n",
      "38/38 [==============================] - 0s 11ms/step - loss: 0.0021\n",
      "Epoch 9/50\n",
      "38/38 [==============================] - 0s 11ms/step - loss: 0.0016\n",
      "Epoch 10/50\n",
      "38/38 [==============================] - 0s 11ms/step - loss: 0.0016\n",
      "Epoch 11/50\n",
      "38/38 [==============================] - 0s 12ms/step - loss: 0.0015\n",
      "Epoch 12/50\n",
      "38/38 [==============================] - 0s 11ms/step - loss: 0.0015\n",
      "Epoch 13/50\n",
      "38/38 [==============================] - 0s 11ms/step - loss: 0.0016\n",
      "Epoch 14/50\n",
      "38/38 [==============================] - 0s 11ms/step - loss: 0.0013\n",
      "Epoch 15/50\n",
      "38/38 [==============================] - 0s 11ms/step - loss: 0.0014\n",
      "Epoch 16/50\n",
      "38/38 [==============================] - 0s 11ms/step - loss: 0.0013\n",
      "Epoch 17/50\n",
      "38/38 [==============================] - 0s 11ms/step - loss: 0.0012\n",
      "Epoch 18/50\n",
      "38/38 [==============================] - 0s 11ms/step - loss: 0.0011\n",
      "Epoch 19/50\n",
      "38/38 [==============================] - 0s 11ms/step - loss: 0.0014\n",
      "Epoch 20/50\n",
      "38/38 [==============================] - 0s 11ms/step - loss: 0.0010\n",
      "Epoch 21/50\n",
      "38/38 [==============================] - 0s 11ms/step - loss: 9.6714e-04\n",
      "Epoch 22/50\n",
      "38/38 [==============================] - 0s 11ms/step - loss: 0.0015\n",
      "Epoch 23/50\n",
      "38/38 [==============================] - 0s 11ms/step - loss: 0.0010\n",
      "Epoch 24/50\n",
      "38/38 [==============================] - 0s 12ms/step - loss: 0.0013\n",
      "Epoch 25/50\n",
      "38/38 [==============================] - 0s 12ms/step - loss: 9.1644e-04\n",
      "Epoch 26/50\n",
      "38/38 [==============================] - 0s 11ms/step - loss: 8.4510e-04\n",
      "Epoch 27/50\n",
      "38/38 [==============================] - 0s 11ms/step - loss: 9.1870e-04\n",
      "Epoch 28/50\n",
      "38/38 [==============================] - 0s 11ms/step - loss: 0.0011\n",
      "Epoch 29/50\n",
      "38/38 [==============================] - 0s 12ms/step - loss: 9.0303e-04\n",
      "Epoch 30/50\n",
      "38/38 [==============================] - 0s 11ms/step - loss: 7.7496e-04\n",
      "Epoch 31/50\n",
      "38/38 [==============================] - 0s 11ms/step - loss: 0.0011\n",
      "Epoch 32/50\n",
      "38/38 [==============================] - 0s 11ms/step - loss: 9.0457e-04\n",
      "Epoch 33/50\n",
      "38/38 [==============================] - 0s 11ms/step - loss: 9.9802e-04\n",
      "Epoch 34/50\n",
      "38/38 [==============================] - 0s 11ms/step - loss: 8.4007e-04\n",
      "Epoch 35/50\n",
      "38/38 [==============================] - 0s 11ms/step - loss: 6.0286e-04\n",
      "Epoch 36/50\n",
      "38/38 [==============================] - 0s 11ms/step - loss: 6.2505e-04\n",
      "Epoch 37/50\n",
      "38/38 [==============================] - 0s 11ms/step - loss: 8.7743e-04\n",
      "Epoch 38/50\n",
      "38/38 [==============================] - 0s 11ms/step - loss: 6.1999e-04\n",
      "Epoch 39/50\n",
      "38/38 [==============================] - 0s 11ms/step - loss: 4.2673e-04\n",
      "Epoch 40/50\n",
      "38/38 [==============================] - 0s 11ms/step - loss: 5.3079e-04\n",
      "Epoch 41/50\n",
      "38/38 [==============================] - 0s 11ms/step - loss: 4.0498e-04\n",
      "Epoch 42/50\n",
      "38/38 [==============================] - 0s 11ms/step - loss: 4.4723e-04\n",
      "Epoch 43/50\n",
      "38/38 [==============================] - 0s 11ms/step - loss: 6.2711e-04\n",
      "Epoch 44/50\n",
      "38/38 [==============================] - 0s 11ms/step - loss: 4.2126e-04\n",
      "Epoch 45/50\n",
      "38/38 [==============================] - 0s 11ms/step - loss: 3.7819e-04\n",
      "Epoch 46/50\n",
      "38/38 [==============================] - 0s 12ms/step - loss: 3.6668e-04\n",
      "Epoch 47/50\n",
      "38/38 [==============================] - 0s 11ms/step - loss: 3.4921e-04\n",
      "Epoch 48/50\n",
      "38/38 [==============================] - 0s 11ms/step - loss: 3.2141e-04\n",
      "Epoch 49/50\n",
      "38/38 [==============================] - 0s 11ms/step - loss: 3.0634e-04\n",
      "Epoch 50/50\n",
      "38/38 [==============================] - 0s 11ms/step - loss: 2.4265e-04\n"
     ]
    }
   ],
   "source": [
    "hist = model.fit(X,y,batch_size=32,epochs=50)"
   ]
  },
  {
   "cell_type": "code",
   "execution_count": null,
   "metadata": {
    "colab": {
     "base_uri": "https://localhost:8080/",
     "height": 282
    },
    "id": "GXtIkswG0M0X",
    "outputId": "75bc5df7-5cc7-426c-abce-a300a731cb4c"
   },
   "outputs": [
    {
     "data": {
      "text/plain": [
       "[<matplotlib.lines.Line2D at 0x7fb82bf79810>]"
      ]
     },
     "execution_count": 24,
     "metadata": {
      "tags": []
     },
     "output_type": "execute_result"
    },
    {
     "data": {
      "image/png": "[encoded data removed]",
      "text/plain": [
       "<Figure size 432x288 with 1 Axes>"
      ]
     },
     "metadata": {
      "needs_background": "light",
      "tags": []
     },
     "output_type": "display_data"
    }
   ],
   "source": [
    "plt.plot(hist.history['loss'])"
   ]
  },
  {
   "cell_type": "code",
   "execution_count": null,
   "metadata": {
    "id": "ZzYq0_ch29et"
   },
   "outputs": [],
   "source": [
    "y_pre=model.predict(X)"
   ]
  },
  {
   "cell_type": "code",
   "execution_count": null,
   "metadata": {
    "id": "UfxtVyWh3WXq"
   },
   "outputs": [],
   "source": [
    "y_pre= scaler.inverse_transform(y_pre)"
   ]
  },
  {
   "cell_type": "code",
   "execution_count": null,
   "metadata": {
    "id": "mLfr8laQ3eJ1"
   },
   "outputs": [],
   "source": [
    " t= df_train['Open'][60:].reset_index(drop=True)"
   ]
  },
  {
   "cell_type": "code",
   "execution_count": null,
   "metadata": {
    "colab": {
     "base_uri": "https://localhost:8080/"
    },
    "id": "rQrbDE453s2H",
    "outputId": "c5479dd6-371b-4b9a-9a87-b453bd672b33"
   },
   "outputs": [
    {
     "data": {
      "text/plain": [
       "0       325.50\n",
       "1       324.66\n",
       "2       319.19\n",
       "3       321.50\n",
       "4       318.03\n",
       "         ...  \n",
       "1193    790.90\n",
       "1194    790.68\n",
       "1195    793.70\n",
       "1196    783.33\n",
       "1197    782.75\n",
       "Name: Open, Length: 1198, dtype: float64"
      ]
     },
     "execution_count": 29,
     "metadata": {
      "tags": []
     },
     "output_type": "execute_result"
    }
   ],
   "source": [
    "t"
   ]
  },
  {
   "cell_type": "code",
   "execution_count": null,
   "metadata": {
    "colab": {
     "base_uri": "https://localhost:8080/",
     "height": 282
    },
    "id": "VCudngs03293",
    "outputId": "2fc1b4ae-fd34-44da-ba7a-8c30ca2b3544"
   },
   "outputs": [
    {
     "data": {
      "text/plain": [
       "[<matplotlib.lines.Line2D at 0x7fb82ae561d0>]"
      ]
     },
     "execution_count": 31,
     "metadata": {
      "tags": []
     },
     "output_type": "execute_result"
    },
    {
     "data": {
      "image/png": "[encoded data removed]",
      "text/plain": [
       "<Figure size 432x288 with 1 Axes>"
      ]
     },
     "metadata": {
      "needs_background": "light",
      "tags": []
     },
     "output_type": "display_data"
    }
   ],
   "source": [
    "plt.plot(t,color='blue')\n",
    "plt.plot(y_pre,color='red')"
   ]
  },
  {
   "cell_type": "code",
   "execution_count": null,
   "metadata": {
    "id": "WmzjvNq03-o0"
   },
   "outputs": [],
   "source": []
  }
 ],
 "metadata": {
  "accelerator": "GPU",
  "colab": {
   "provenance": []
  },
  "kernelspec": {
   "display_name": "Python 3",
   "language": "python",
   "name": "python3"
  },
  "language_info": {
   "codemirror_mode": {
    "name": "ipython",
    "version": 3
   },
   "file_extension": ".py",
   "mimetype": "text/x-python",
   "name": "python",
   "nbconvert_exporter": "python",
   "pygments_lexer": "ipython3",
   "version": "3.7.10"
  }
 },
 "nbformat": 4,
 "nbformat_minor": 1
}
